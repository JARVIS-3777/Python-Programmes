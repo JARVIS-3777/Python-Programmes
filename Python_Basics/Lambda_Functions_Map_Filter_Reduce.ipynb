{
 "cells": [
  {
   "cell_type": "markdown",
   "id": "733d5493",
   "metadata": {},
   "source": [
    "# LAMBDA INPUT : EXPRESSION"
   ]
  },
  {
   "cell_type": "code",
   "execution_count": 6,
   "id": "97079643",
   "metadata": {},
   "outputs": [
    {
     "data": {
      "text/plain": [
       "81"
      ]
     },
     "execution_count": 6,
     "metadata": {},
     "output_type": "execute_result"
    }
   ],
   "source": [
    "x=lambda x:x **2\n",
    "x(9)"
   ]
  },
  {
   "cell_type": "code",
   "execution_count": 7,
   "id": "a422b9c1",
   "metadata": {},
   "outputs": [
    {
     "data": {
      "text/plain": [
       "9"
      ]
     },
     "execution_count": 7,
     "metadata": {},
     "output_type": "execute_result"
    }
   ],
   "source": [
    "a=lambda x,y:x+y\n",
    "a(4,5)"
   ]
  },
  {
   "cell_type": "raw",
   "id": "eba53dfa",
   "metadata": {},
   "source": [
    "Difference between other funtion and lambda fucntion\n",
    "1.Lambda has no return value\n",
    "2.Lambda function can only be written in one line\n",
    "3.Not used for code reusability\n",
    "4.Lambda function doesnt have any name\n",
    "Lambda used with Higher Order functions\n",
    "#higher order function needs input to perform a function"
   ]
  },
  {
   "cell_type": "code",
   "execution_count": 8,
   "id": "bba30f1f",
   "metadata": {},
   "outputs": [
    {
     "data": {
      "text/plain": [
       "function"
      ]
     },
     "execution_count": 8,
     "metadata": {},
     "output_type": "execute_result"
    }
   ],
   "source": [
    "type(a)"
   ]
  },
  {
   "cell_type": "code",
   "execution_count": 10,
   "id": "91856ee4",
   "metadata": {},
   "outputs": [
    {
     "data": {
      "text/plain": [
       "True"
      ]
     },
     "execution_count": 10,
     "metadata": {},
     "output_type": "execute_result"
    }
   ],
   "source": [
    "b=lambda x:x[0]=='a'\n",
    "b(\"apple\")"
   ]
  },
  {
   "cell_type": "code",
   "execution_count": 11,
   "id": "35d1622d",
   "metadata": {},
   "outputs": [
    {
     "data": {
      "text/plain": [
       "False"
      ]
     },
     "execution_count": 11,
     "metadata": {},
     "output_type": "execute_result"
    }
   ],
   "source": [
    "b('banana')"
   ]
  },
  {
   "cell_type": "code",
   "execution_count": 13,
   "id": "c37f1ad3",
   "metadata": {},
   "outputs": [
    {
     "data": {
      "text/plain": [
       "'Odd'"
      ]
     },
     "execution_count": 13,
     "metadata": {},
     "output_type": "execute_result"
    }
   ],
   "source": [
    "b=lambda x:'Even' if x%2==0 else 'Odd'\n",
    "b(3)"
   ]
  },
  {
   "cell_type": "code",
   "execution_count": 14,
   "id": "196d2785",
   "metadata": {},
   "outputs": [
    {
     "data": {
      "text/plain": [
       "'Even'"
      ]
     },
     "execution_count": 14,
     "metadata": {},
     "output_type": "execute_result"
    }
   ],
   "source": [
    "b(6)"
   ]
  },
  {
   "cell_type": "raw",
   "id": "d77fa55d",
   "metadata": {},
   "source": [
    "Higher Ordered Function"
   ]
  },
  {
   "cell_type": "code",
   "execution_count": 20,
   "id": "c9541936",
   "metadata": {},
   "outputs": [
    {
     "name": "stdout",
     "output_type": "stream",
     "text": [
      "even = 176\n",
      "odd = 129\n",
      "144\n"
     ]
    }
   ],
   "source": [
    "def return_sum(func,L):\n",
    "    result = 0\n",
    "    for i in L:\n",
    "        if func(i):\n",
    "            result = result+i\n",
    "    return result\n",
    "L =[11,14,21,23,56,78,45,29,28]\n",
    "x=lambda x:x%2==0\n",
    "y=lambda x:x%2!=0\n",
    "z=lambda x:x%3==0\n",
    "print(\"even =\",return_sum(x,L))\n",
    "print(\"odd =\",return_sum(y,L))\n",
    "print(return_sum(z,L))"
   ]
  },
  {
   "cell_type": "markdown",
   "id": "3865ea08",
   "metadata": {},
   "source": [
    "# Map Function"
   ]
  },
  {
   "cell_type": "code",
   "execution_count": 49,
   "id": "2ca4ee4f",
   "metadata": {},
   "outputs": [
    {
     "data": {
      "text/plain": [
       "<map at 0x2063ba4f250>"
      ]
     },
     "execution_count": 49,
     "metadata": {},
     "output_type": "execute_result"
    }
   ],
   "source": [
    "L=[1,2,3,4,5,6,7]\n",
    "map(lambda x:x*2,L)"
   ]
  },
  {
   "cell_type": "code",
   "execution_count": 23,
   "id": "07d3425c",
   "metadata": {},
   "outputs": [
    {
     "data": {
      "text/plain": [
       "[2, 4, 6, 8, 10, 12, 14]"
      ]
     },
     "execution_count": 23,
     "metadata": {},
     "output_type": "execute_result"
    }
   ],
   "source": [
    "list(map(lambda x:x*2,L))"
   ]
  },
  {
   "cell_type": "markdown",
   "id": "ae39f916",
   "metadata": {},
   "source": [
    "check if anumber is odd or even"
   ]
  },
  {
   "cell_type": "code",
   "execution_count": 24,
   "id": "cc3b73fd",
   "metadata": {},
   "outputs": [
    {
     "data": {
      "text/plain": [
       "[False, True, False, True, False, True, False]"
      ]
     },
     "execution_count": 24,
     "metadata": {},
     "output_type": "execute_result"
    }
   ],
   "source": [
    "list(map(lambda x:x%2==0,L))"
   ]
  },
  {
   "cell_type": "code",
   "execution_count": 31,
   "id": "7da74871",
   "metadata": {},
   "outputs": [],
   "source": [
    "students=[  \n",
    "{\n",
    "    'name':'Jacob Martin',\n",
    "    'father name':'Ros Martin',\n",
    "    'Address':'123 Hill Street',\n",
    "},{\n",
    "    'name':'Angel Stevens',\n",
    "    'father name':'Robert Stevens',\n",
    "    'Address':'3 Upper Street London',\n",
    "},{\n",
    "    'name':'Ricky Smart',\n",
    "    'father name':'William Smart', \n",
    "    'Address':'Unknown',\n",
    "}\n",
    "]"
   ]
  },
  {
   "cell_type": "code",
   "execution_count": 34,
   "id": "a20e9c78",
   "metadata": {},
   "outputs": [
    {
     "data": {
      "text/plain": [
       "<map at 0x206396e95e0>"
      ]
     },
     "execution_count": 34,
     "metadata": {},
     "output_type": "execute_result"
    }
   ],
   "source": [
    "map(lambda student:student['name'],students)"
   ]
  },
  {
   "cell_type": "code",
   "execution_count": 35,
   "id": "17e1bc7f",
   "metadata": {},
   "outputs": [
    {
     "data": {
      "text/plain": [
       "['Jacob Martin', 'Angel Stevens', 'Ricky Smart']"
      ]
     },
     "execution_count": 35,
     "metadata": {},
     "output_type": "execute_result"
    }
   ],
   "source": [
    "list(map(lambda student:student['name'],students))"
   ]
  },
  {
   "cell_type": "markdown",
   "id": "adb3c436",
   "metadata": {},
   "source": [
    "# Filter"
   ]
  },
  {
   "cell_type": "code",
   "execution_count": 38,
   "id": "7e27f43e",
   "metadata": {},
   "outputs": [
    {
     "data": {
      "text/plain": [
       "[5, 6, 7]"
      ]
     },
     "execution_count": 38,
     "metadata": {},
     "output_type": "execute_result"
    }
   ],
   "source": [
    "L=[1,2,3,4,5,6,7]\n",
    "list(filter(lambda x:x>4,L))"
   ]
  },
  {
   "cell_type": "code",
   "execution_count": 40,
   "id": "7a0363fa",
   "metadata": {},
   "outputs": [
    {
     "data": {
      "text/plain": [
       "['Apple', 'Orange']"
      ]
     },
     "execution_count": 40,
     "metadata": {},
     "output_type": "execute_result"
    }
   ],
   "source": [
    "Fruits=['Apple','Orange','Mango','Guava']\n",
    "list(filter(lambda fruit:\"e\" in fruit,Fruits))"
   ]
  },
  {
   "cell_type": "markdown",
   "id": "d94064c5",
   "metadata": {},
   "source": [
    "# Reduce"
   ]
  },
  {
   "cell_type": "code",
   "execution_count": 41,
   "id": "c2d28fa5",
   "metadata": {},
   "outputs": [],
   "source": [
    "import functools"
   ]
  },
  {
   "cell_type": "code",
   "execution_count": 43,
   "id": "c4b0b80e",
   "metadata": {},
   "outputs": [
    {
     "data": {
      "text/plain": [
       "28"
      ]
     },
     "execution_count": 43,
     "metadata": {},
     "output_type": "execute_result"
    }
   ],
   "source": [
    "functools.reduce(lambda x,y:x+y,L)"
   ]
  },
  {
   "cell_type": "code",
   "execution_count": 44,
   "id": "99d5857d",
   "metadata": {},
   "outputs": [
    {
     "data": {
      "text/plain": [
       "319"
      ]
     },
     "execution_count": 44,
     "metadata": {},
     "output_type": "execute_result"
    }
   ],
   "source": [
    "L1=[22,55,77,88,11,66]\n",
    "functools.reduce(lambda x,y:x+y,L1)"
   ]
  },
  {
   "cell_type": "code",
   "execution_count": 46,
   "id": "ebc7dcfc",
   "metadata": {},
   "outputs": [
    {
     "data": {
      "text/plain": [
       "88"
      ]
     },
     "execution_count": 46,
     "metadata": {},
     "output_type": "execute_result"
    }
   ],
   "source": [
    "L1=[22,55,77,88,11,66]\n",
    "functools.reduce(lambda x,y:x if x>y else y ,L1)"
   ]
  },
  {
   "cell_type": "code",
   "execution_count": 47,
   "id": "220ad8a2",
   "metadata": {},
   "outputs": [
    {
     "data": {
      "text/plain": [
       "7"
      ]
     },
     "execution_count": 47,
     "metadata": {},
     "output_type": "execute_result"
    }
   ],
   "source": [
    "functools.reduce(lambda x,y:x if x>y else y ,L)"
   ]
  },
  {
   "cell_type": "code",
   "execution_count": 48,
   "id": "c78b122d",
   "metadata": {},
   "outputs": [
    {
     "data": {
      "text/plain": [
       "[1, 2, 3, 4, 5, 6, 7]"
      ]
     },
     "execution_count": 48,
     "metadata": {},
     "output_type": "execute_result"
    }
   ],
   "source": [
    "L"
   ]
  },
  {
   "cell_type": "markdown",
   "id": "f19d9749",
   "metadata": {},
   "source": [
    "# List Comprehension"
   ]
  },
  {
   "cell_type": "code",
   "execution_count": 52,
   "id": "81f4a8b9",
   "metadata": {},
   "outputs": [
    {
     "data": {
      "text/plain": [
       "[2, 4, 6, 8, 10, 12, 14]"
      ]
     },
     "execution_count": 52,
     "metadata": {},
     "output_type": "execute_result"
    }
   ],
   "source": [
    "L1=[item*2 for item in L]\n",
    "L1"
   ]
  },
  {
   "cell_type": "code",
   "execution_count": 54,
   "id": "c986ef24",
   "metadata": {},
   "outputs": [
    {
     "data": {
      "text/plain": [
       "[0, 1, 4, 9, 16, 25, 36, 49, 64, 81]"
      ]
     },
     "execution_count": 54,
     "metadata": {},
     "output_type": "execute_result"
    }
   ],
   "source": [
    "L2=[i**2 for i in range (10)]\n",
    "L2"
   ]
  },
  {
   "cell_type": "code",
   "execution_count": 56,
   "id": "e7a18661",
   "metadata": {},
   "outputs": [
    {
     "data": {
      "text/plain": [
       "[1, 9, 25, 49, 81]"
      ]
     },
     "execution_count": 56,
     "metadata": {},
     "output_type": "execute_result"
    }
   ],
   "source": [
    "L3=[i**2 for i in range (10) if  i%2!=0]\n",
    "L3"
   ]
  },
  {
   "cell_type": "code",
   "execution_count": 68,
   "id": "8918cd8e",
   "metadata": {},
   "outputs": [
    {
     "data": {
      "text/plain": [
       "['Orange']"
      ]
     },
     "execution_count": 68,
     "metadata": {},
     "output_type": "execute_result"
    }
   ],
   "source": [
    "L4=[fruit for fruit in Fruits if fruit[0]=='O']\n",
    "\n",
    "L4"
   ]
  },
  {
   "cell_type": "markdown",
   "id": "2e4f92ab",
   "metadata": {},
   "source": [
    "# Dicitionary Comprehension"
   ]
  },
  {
   "cell_type": "code",
   "execution_count": 70,
   "id": "d850d4d9",
   "metadata": {},
   "outputs": [
    {
     "data": {
      "text/plain": [
       "{'Name': 'Animesh', 'Gender': 'Male', 'Age': '25'}"
      ]
     },
     "execution_count": 70,
     "metadata": {},
     "output_type": "execute_result"
    }
   ],
   "source": [
    "D={'Name':'Animesh','Gender':'Male','Age':'25'}\n",
    "D"
   ]
  },
  {
   "cell_type": "code",
   "execution_count": 71,
   "id": "2d045f43",
   "metadata": {},
   "outputs": [
    {
     "data": {
      "text/plain": [
       "dict_items([('Name', 'Animesh'), ('Gender', 'Male'), ('Age', '25')])"
      ]
     },
     "execution_count": 71,
     "metadata": {},
     "output_type": "execute_result"
    }
   ],
   "source": [
    "D.items()"
   ]
  },
  {
   "cell_type": "code",
   "execution_count": 76,
   "id": "80a20781",
   "metadata": {},
   "outputs": [
    {
     "data": {
      "text/plain": [
       "{'Name': 'Animesh', 'Gender': 'Male'}"
      ]
     },
     "execution_count": 76,
     "metadata": {},
     "output_type": "execute_result"
    }
   ],
   "source": [
    "D1={key : value for key,value in D.items() if len(key)>3}\n",
    "D1"
   ]
  },
  {
   "cell_type": "code",
   "execution_count": null,
   "id": "9fd459b1",
   "metadata": {},
   "outputs": [],
   "source": []
  },
  {
   "cell_type": "code",
   "execution_count": null,
   "id": "527bef81",
   "metadata": {},
   "outputs": [],
   "source": []
  }
 ],
 "metadata": {
  "kernelspec": {
   "display_name": "Python 3 (ipykernel)",
   "language": "python",
   "name": "python3"
  },
  "language_info": {
   "codemirror_mode": {
    "name": "ipython",
    "version": 3
   },
   "file_extension": ".py",
   "mimetype": "text/x-python",
   "name": "python",
   "nbconvert_exporter": "python",
   "pygments_lexer": "ipython3",
   "version": "3.9.13"
  }
 },
 "nbformat": 4,
 "nbformat_minor": 5
}
