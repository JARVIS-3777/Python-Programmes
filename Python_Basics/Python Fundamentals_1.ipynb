{
 "cells": [
  {
   "cell_type": "code",
   "execution_count": 1,
   "id": "29791643",
   "metadata": {},
   "outputs": [
    {
     "name": "stdout",
     "output_type": "stream",
     "text": [
      "Hello Python\n"
     ]
    }
   ],
   "source": [
    "print('Hello Python')"
   ]
  },
  {
   "cell_type": "code",
   "execution_count": 2,
   "id": "76c9b3ba",
   "metadata": {},
   "outputs": [
    {
     "name": "stdout",
     "output_type": "stream",
     "text": [
      "7\n"
     ]
    }
   ],
   "source": [
    "print(7)"
   ]
  },
  {
   "cell_type": "code",
   "execution_count": 3,
   "id": "867ce14f",
   "metadata": {},
   "outputs": [
    {
     "name": "stdout",
     "output_type": "stream",
     "text": [
      "7.7\n"
     ]
    }
   ],
   "source": [
    "print(7.7)"
   ]
  },
  {
   "cell_type": "code",
   "execution_count": 4,
   "id": "4cc01d11",
   "metadata": {},
   "outputs": [
    {
     "name": "stdout",
     "output_type": "stream",
     "text": [
      "True\n"
     ]
    }
   ],
   "source": [
    "print(True)"
   ]
  },
  {
   "cell_type": "code",
   "execution_count": 5,
   "id": "b16a2987",
   "metadata": {},
   "outputs": [
    {
     "name": "stdout",
     "output_type": "stream",
     "text": [
      "Hello 1 4.5 True\n"
     ]
    }
   ],
   "source": [
    "print('Hello',1,4.5,True)"
   ]
  },
  {
   "cell_type": "code",
   "execution_count": 6,
   "id": "f3f24267",
   "metadata": {},
   "outputs": [
    {
     "name": "stdout",
     "output_type": "stream",
     "text": [
      "Hello-1-4.5-True\n"
     ]
    }
   ],
   "source": [
    "print('Hello',1,4.5,True,sep=\"-\")"
   ]
  },
  {
   "cell_type": "code",
   "execution_count": 7,
   "id": "720800aa",
   "metadata": {},
   "outputs": [
    {
     "name": "stdout",
     "output_type": "stream",
     "text": [
      "hello-world\n"
     ]
    }
   ],
   "source": [
    "print('hello',end=\"-\")\n",
    "print('world')"
   ]
  },
  {
   "cell_type": "markdown",
   "id": "4fa9a8b3",
   "metadata": {},
   "source": [
    "# DATA TYPE"
   ]
  },
  {
   "cell_type": "code",
   "execution_count": 8,
   "id": "b0c0d41c",
   "metadata": {},
   "outputs": [
    {
     "name": "stdout",
     "output_type": "stream",
     "text": [
      "8\n"
     ]
    }
   ],
   "source": [
    "#Integer\n",
    "print(8)"
   ]
  },
  {
   "cell_type": "code",
   "execution_count": 9,
   "id": "c4cef045",
   "metadata": {},
   "outputs": [
    {
     "name": "stdout",
     "output_type": "stream",
     "text": [
      "5.5\n"
     ]
    }
   ],
   "source": [
    "#float\n",
    "print(5.5)"
   ]
  },
  {
   "cell_type": "code",
   "execution_count": 10,
   "id": "bca4d4b0",
   "metadata": {},
   "outputs": [
    {
     "name": "stdout",
     "output_type": "stream",
     "text": [
      "Heyyy\n"
     ]
    }
   ],
   "source": [
    "#string\n",
    "print('Heyyy')"
   ]
  },
  {
   "cell_type": "code",
   "execution_count": 11,
   "id": "5f98abd4",
   "metadata": {},
   "outputs": [
    {
     "name": "stdout",
     "output_type": "stream",
     "text": [
      "True\n"
     ]
    }
   ],
   "source": [
    "#boolean\n",
    "print(True)"
   ]
  },
  {
   "cell_type": "code",
   "execution_count": 13,
   "id": "0a6e059c",
   "metadata": {},
   "outputs": [
    {
     "name": "stdout",
     "output_type": "stream",
     "text": [
      "(5+6j)\n"
     ]
    }
   ],
   "source": [
    "#complex number\n",
    "print(5+6j)"
   ]
  },
  {
   "cell_type": "code",
   "execution_count": 14,
   "id": "1aee3870",
   "metadata": {},
   "outputs": [
    {
     "name": "stdout",
     "output_type": "stream",
     "text": [
      "[1, 2, 3, 4, 5]\n"
     ]
    }
   ],
   "source": [
    "#list\n",
    "print([1,2,3,4,5])"
   ]
  },
  {
   "cell_type": "code",
   "execution_count": 15,
   "id": "f5917cf4",
   "metadata": {},
   "outputs": [
    {
     "name": "stdout",
     "output_type": "stream",
     "text": [
      "(1, 2, 3, 4, 5)\n"
     ]
    }
   ],
   "source": [
    "#tuple\n",
    "print((1,2,3,4,5))"
   ]
  },
  {
   "cell_type": "code",
   "execution_count": 16,
   "id": "ee2ecb91",
   "metadata": {},
   "outputs": [
    {
     "name": "stdout",
     "output_type": "stream",
     "text": [
      "{1, 2, 3, 4, 5}\n"
     ]
    }
   ],
   "source": [
    "#sets\n",
    "print({1,2,3,4,5})"
   ]
  },
  {
   "cell_type": "code",
   "execution_count": 20,
   "id": "1126a682",
   "metadata": {},
   "outputs": [
    {
     "name": "stdout",
     "output_type": "stream",
     "text": [
      "{'name': 'Animesh', 'class': 5, 'subjexct': 'maths'}\n"
     ]
    }
   ],
   "source": [
    "#dictionary\n",
    "print({'name':'Animesh','class':5,'subjexct':\"maths\"})"
   ]
  },
  {
   "cell_type": "code",
   "execution_count": 23,
   "id": "11f0632b",
   "metadata": {},
   "outputs": [
    {
     "data": {
      "text/plain": [
       "int"
      ]
     },
     "execution_count": 23,
     "metadata": {},
     "output_type": "execute_result"
    }
   ],
   "source": [
    "#type\n",
    "type(3)"
   ]
  },
  {
   "cell_type": "code",
   "execution_count": 24,
   "id": "30440427",
   "metadata": {},
   "outputs": [
    {
     "data": {
      "text/plain": [
       "str"
      ]
     },
     "execution_count": 24,
     "metadata": {},
     "output_type": "execute_result"
    }
   ],
   "source": [
    "type('hello')"
   ]
  },
  {
   "cell_type": "code",
   "execution_count": 25,
   "id": "40fbdff2",
   "metadata": {},
   "outputs": [
    {
     "data": {
      "text/plain": [
       "bool"
      ]
     },
     "execution_count": 25,
     "metadata": {},
     "output_type": "execute_result"
    }
   ],
   "source": [
    "type(True)"
   ]
  },
  {
   "cell_type": "markdown",
   "id": "02dadcdd",
   "metadata": {},
   "source": [
    "# Variables"
   ]
  },
  {
   "cell_type": "code",
   "execution_count": 26,
   "id": "43c0b0b5",
   "metadata": {},
   "outputs": [],
   "source": [
    "#variables are containers used to store values for future use"
   ]
  },
  {
   "cell_type": "code",
   "execution_count": 2,
   "id": "7dfccc37",
   "metadata": {},
   "outputs": [
    {
     "name": "stdout",
     "output_type": "stream",
     "text": [
      "Animesh\n"
     ]
    }
   ],
   "source": [
    "name= 'Animesh'\n",
    "print(name)"
   ]
  },
  {
   "cell_type": "code",
   "execution_count": 3,
   "id": "339b2c4e",
   "metadata": {},
   "outputs": [
    {
     "data": {
      "text/plain": [
       "11"
      ]
     },
     "execution_count": 3,
     "metadata": {},
     "output_type": "execute_result"
    }
   ],
   "source": [
    "a=5\n",
    "b=6\n",
    "a+b"
   ]
  },
  {
   "cell_type": "code",
   "execution_count": 4,
   "id": "032ec4e7",
   "metadata": {},
   "outputs": [],
   "source": [
    "#Dynamic typing\n",
    "#when we dont need to tell data type of a variable\n",
    "a=5\n",
    "#python is a language which supports dynamic typing"
   ]
  },
  {
   "cell_type": "code",
   "execution_count": 6,
   "id": "8cbd6330",
   "metadata": {},
   "outputs": [
    {
     "name": "stdout",
     "output_type": "stream",
     "text": [
      "5\n",
      "animesh\n"
     ]
    }
   ],
   "source": [
    "#Dynamic Binding\n",
    "a=5\n",
    "print(a)\n",
    "a='animesh'\n",
    "print(a)"
   ]
  },
  {
   "cell_type": "code",
   "execution_count": 2,
   "id": "46fac34b",
   "metadata": {},
   "outputs": [
    {
     "name": "stdout",
     "output_type": "stream",
     "text": [
      "1 2 3\n"
     ]
    }
   ],
   "source": [
    "a=1\n",
    "b=2\n",
    "c=3 \n",
    "print(a,b,c)"
   ]
  },
  {
   "cell_type": "code",
   "execution_count": 3,
   "id": "d59c0852",
   "metadata": {},
   "outputs": [
    {
     "name": "stdout",
     "output_type": "stream",
     "text": [
      "1 2 3\n"
     ]
    }
   ],
   "source": [
    "a,b,c=1,2,3\n",
    "print(a,b,c)"
   ]
  },
  {
   "cell_type": "code",
   "execution_count": 4,
   "id": "988e473f",
   "metadata": {},
   "outputs": [
    {
     "name": "stdout",
     "output_type": "stream",
     "text": [
      "5 5 5\n"
     ]
    }
   ],
   "source": [
    "a=b=c=5\n",
    "print(a,b,c)"
   ]
  },
  {
   "cell_type": "markdown",
   "id": "c8ca5367",
   "metadata": {},
   "source": [
    "\n",
    "# Comments"
   ]
  },
  {
   "cell_type": "code",
   "execution_count": 8,
   "id": "8fb35c6b",
   "metadata": {},
   "outputs": [
    {
     "data": {
      "text/plain": [
       "10"
      ]
     },
     "execution_count": 8,
     "metadata": {},
     "output_type": "execute_result"
    }
   ],
   "source": [
    "a=4\n",
    "b=6\n",
    "a+b\n",
    "#addition of two numbers -> comment\n",
    "#python ignores comments , it is used to explai whats written in code -> comment"
   ]
  },
  {
   "cell_type": "markdown",
   "id": "00863358",
   "metadata": {},
   "source": [
    "# Keyword & Identifiers"
   ]
  },
  {
   "cell_type": "code",
   "execution_count": 9,
   "id": "9d37db4c",
   "metadata": {},
   "outputs": [],
   "source": [
    "#Keywords\n",
    "#32 words reserved for keyword, so we can not use those as Variable\n",
    "#Example True, false, if, else ,while, and, or, yield, with ... etc"
   ]
  },
  {
   "cell_type": "code",
   "execution_count": 11,
   "id": "b0569e82",
   "metadata": {},
   "outputs": [],
   "source": [
    "#Identifiers\n",
    "#idnetifying a variable\n",
    "a= 1 # here a is identifers\n",
    "#identifiers can not be keywords"
   ]
  },
  {
   "cell_type": "markdown",
   "id": "5e0f0fef",
   "metadata": {},
   "source": [
    "# User Input"
   ]
  },
  {
   "cell_type": "code",
   "execution_count": 14,
   "id": "440653a4",
   "metadata": {},
   "outputs": [
    {
     "name": "stdout",
     "output_type": "stream",
     "text": [
      "5\n"
     ]
    },
    {
     "data": {
      "text/plain": [
       "'5'"
      ]
     },
     "execution_count": 14,
     "metadata": {},
     "output_type": "execute_result"
    }
   ],
   "source": [
    "input()"
   ]
  },
  {
   "cell_type": "code",
   "execution_count": 16,
   "id": "072c0ae0",
   "metadata": {},
   "outputs": [
    {
     "name": "stdout",
     "output_type": "stream",
     "text": [
      "Enter your name Animesh\n"
     ]
    },
    {
     "data": {
      "text/plain": [
       "'Animesh'"
      ]
     },
     "execution_count": 16,
     "metadata": {},
     "output_type": "execute_result"
    }
   ],
   "source": [
    "input('Enter your name ')"
   ]
  },
  {
   "cell_type": "code",
   "execution_count": 17,
   "id": "60416c39",
   "metadata": {},
   "outputs": [],
   "source": [
    "#take input from users and store them in variable\n",
    "#add the two variables\n",
    "#print the result"
   ]
  },
  {
   "cell_type": "code",
   "execution_count": 21,
   "id": "1d2590be",
   "metadata": {},
   "outputs": [
    {
     "name": "stdout",
     "output_type": "stream",
     "text": [
      "Enter first number5\n",
      "Enter first number6\n"
     ]
    },
    {
     "data": {
      "text/plain": [
       "11"
      ]
     },
     "execution_count": 21,
     "metadata": {},
     "output_type": "execute_result"
    }
   ],
   "source": [
    "fnum= int(input('Enter first number'))\n",
    "snum= int(input('Enter first number'))\n",
    "result =fnum+snum\n",
    "result"
   ]
  },
  {
   "cell_type": "markdown",
   "id": "9ea29908",
   "metadata": {},
   "source": [
    "# Type Conversion"
   ]
  },
  {
   "cell_type": "code",
   "execution_count": 23,
   "id": "5799e1c3",
   "metadata": {},
   "outputs": [
    {
     "name": "stdout",
     "output_type": "stream",
     "text": [
      "10.6\n",
      "<class 'int'> <class 'float'>\n"
     ]
    }
   ],
   "source": [
    "#Implicit Type conersion\n",
    "print(5+5.6)\n",
    "print(type(5),type(5.6))"
   ]
  },
  {
   "cell_type": "code",
   "execution_count": 30,
   "id": "389f1fc3",
   "metadata": {},
   "outputs": [
    {
     "data": {
      "text/plain": [
       "'5'"
      ]
     },
     "execution_count": 30,
     "metadata": {},
     "output_type": "execute_result"
    }
   ],
   "source": [
    "#explicit type conersion\n",
    "#str-> integer\n",
    "str(4)\n",
    "type(str(4))\n",
    "int(4.5)\n",
    "str(5)"
   ]
  },
  {
   "cell_type": "markdown",
   "id": "538313fe",
   "metadata": {},
   "source": [
    "# Operators"
   ]
  },
  {
   "cell_type": "raw",
   "id": "73d2d58d",
   "metadata": {},
   "source": [
    "Arithmetic\n",
    "Relational\n",
    "Logical\n",
    "Bitwise\n",
    "Assignment\n",
    "Membership"
   ]
  },
  {
   "cell_type": "code",
   "execution_count": 35,
   "id": "b9352683",
   "metadata": {},
   "outputs": [
    {
     "data": {
      "text/plain": [
       "2"
      ]
     },
     "execution_count": 35,
     "metadata": {},
     "output_type": "execute_result"
    }
   ],
   "source": [
    "#Arithmetic Operators\n",
    "5+6\n",
    "5-6\n",
    "5*6\n",
    "5/6\n",
    "5%6\n",
    "5//2"
   ]
  },
  {
   "cell_type": "code",
   "execution_count": 36,
   "id": "7e35602d",
   "metadata": {},
   "outputs": [
    {
     "data": {
      "text/plain": [
       "True"
      ]
     },
     "execution_count": 36,
     "metadata": {},
     "output_type": "execute_result"
    }
   ],
   "source": [
    "#Relational Operators\n",
    "5==2\n",
    "5>2\n",
    "5<2\n",
    "5<=2\n",
    "5>=2\n",
    "5!=2"
   ]
  },
  {
   "cell_type": "code",
   "execution_count": 37,
   "id": "4ad3da69",
   "metadata": {},
   "outputs": [
    {
     "data": {
      "text/plain": [
       "0"
      ]
     },
     "execution_count": 37,
     "metadata": {},
     "output_type": "execute_result"
    }
   ],
   "source": [
    "#Logical Operators\n",
    "1 and 0"
   ]
  },
  {
   "cell_type": "code",
   "execution_count": 38,
   "id": "c3086140",
   "metadata": {},
   "outputs": [
    {
     "data": {
      "text/plain": [
       "1"
      ]
     },
     "execution_count": 38,
     "metadata": {},
     "output_type": "execute_result"
    }
   ],
   "source": [
    "1 or 11"
   ]
  },
  {
   "cell_type": "code",
   "execution_count": 39,
   "id": "fb45f534",
   "metadata": {},
   "outputs": [
    {
     "data": {
      "text/plain": [
       "False"
      ]
     },
     "execution_count": 39,
     "metadata": {},
     "output_type": "execute_result"
    }
   ],
   "source": [
    "not 1"
   ]
  },
  {
   "cell_type": "code",
   "execution_count": 45,
   "id": "2727b5aa",
   "metadata": {},
   "outputs": [
    {
     "name": "stdout",
     "output_type": "stream",
     "text": [
      "2\n"
     ]
    },
    {
     "data": {
      "text/plain": [
       "32"
      ]
     },
     "execution_count": 45,
     "metadata": {},
     "output_type": "execute_result"
    }
   ],
   "source": [
    "#Bitwise Operators\n",
    "print (2 & 3)\n",
    "4 & 3\n",
    "2 | 3\n",
    "2 ^ 3\n",
    "4>>2\n",
    "2<<4"
   ]
  },
  {
   "cell_type": "code",
   "execution_count": 46,
   "id": "e8fba41b",
   "metadata": {},
   "outputs": [],
   "source": [
    "# Assignment Operators\n",
    "a=2  # = is assignment operators\n",
    "a-5 # - is assignment operators"
   ]
  },
  {
   "cell_type": "code",
   "execution_count": 51,
   "id": "29cd5b7b",
   "metadata": {},
   "outputs": [
    {
     "name": "stdout",
     "output_type": "stream",
     "text": [
      "True\n"
     ]
    },
    {
     "data": {
      "text/plain": [
       "False"
      ]
     },
     "execution_count": 51,
     "metadata": {},
     "output_type": "execute_result"
    }
   ],
   "source": [
    "#Membershio operators\n",
    "#in/not in\n",
    "print('D' in \"Delhi\")\n",
    "\"k\" in 'cake'\n",
    "'n' not in 'Animesh'"
   ]
  },
  {
   "cell_type": "code",
   "execution_count": null,
   "id": "90edfc46",
   "metadata": {},
   "outputs": [],
   "source": []
  }
 ],
 "metadata": {
  "kernelspec": {
   "display_name": "Python 3 (ipykernel)",
   "language": "python",
   "name": "python3"
  },
  "language_info": {
   "codemirror_mode": {
    "name": "ipython",
    "version": 3
   },
   "file_extension": ".py",
   "mimetype": "text/x-python",
   "name": "python",
   "nbconvert_exporter": "python",
   "pygments_lexer": "ipython3",
   "version": "3.9.13"
  }
 },
 "nbformat": 4,
 "nbformat_minor": 5
}
